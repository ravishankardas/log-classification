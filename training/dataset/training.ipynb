{
 "cells": [
  {
   "cell_type": "code",
   "execution_count": 1,
   "id": "b65cfbec",
   "metadata": {},
   "outputs": [],
   "source": [
    "import pandas as pd\n",
    "df = pd.read_csv(r\"C:\\Users\\ravis\\OneDrive\\Desktop\\LogClassification\\training\\dataset\\synthetic_logs.csv\")\n"
   ]
  },
  {
   "cell_type": "code",
   "execution_count": 2,
   "id": "3134c305",
   "metadata": {},
   "outputs": [
    {
     "data": {
      "text/plain": [
       "Index(['timestamp', 'source', 'log_message', 'target_label', 'complexity'], dtype='object')"
      ]
     },
     "execution_count": 2,
     "metadata": {},
     "output_type": "execute_result"
    }
   ],
   "source": [
    "df.columns # type: ignore"
   ]
  },
  {
   "cell_type": "code",
   "execution_count": 3,
   "id": "120a966f",
   "metadata": {},
   "outputs": [
    {
     "data": {
      "text/plain": [
       "array(['ModernCRM', 'AnalyticsEngine', 'ModernHR', 'BillingSystem',\n",
       "       'ThirdPartyAPI', 'LegacyCRM'], dtype=object)"
      ]
     },
     "execution_count": 3,
     "metadata": {},
     "output_type": "execute_result"
    }
   ],
   "source": [
    "df.source.unique() # type: ignore"
   ]
  },
  {
   "cell_type": "code",
   "execution_count": 4,
   "id": "ad6656d2",
   "metadata": {},
   "outputs": [
    {
     "name": "stderr",
     "output_type": "stream",
     "text": [
      "c:\\Users\\ravis\\OneDrive\\Desktop\\LogClassification\\myenv\\lib\\site-packages\\tqdm\\auto.py:21: TqdmWarning: IProgress not found. Please update jupyter and ipywidgets. See https://ipywidgets.readthedocs.io/en/stable/user_install.html\n",
      "  from .autonotebook import tqdm as notebook_tqdm\n",
      "Batches: 100%|██████████| 76/76 [00:30<00:00,  2.49it/s]"
     ]
    },
    {
     "name": "stdout",
     "output_type": "stream",
     "text": [
      "(2410, 384)\n"
     ]
    },
    {
     "name": "stderr",
     "output_type": "stream",
     "text": [
      "\n"
     ]
    }
   ],
   "source": [
    "from sentence_transformers import SentenceTransformer\n",
    "from sklearn.cluster import DBSCAN\n",
    "\n",
    "\n",
    "model = SentenceTransformer('all-MiniLM-L6-v2')\n",
    "\n",
    "embeddings = model.encode(df['log_message'].tolist(), show_progress_bar=True)\n",
    "\n",
    "print(embeddings.shape)\n",
    "\n"
   ]
  },
  {
   "cell_type": "code",
   "execution_count": 8,
   "id": "d84e9fb0",
   "metadata": {},
   "outputs": [],
   "source": [
    "dbscan = DBSCAN(eps=0.2, min_samples=1, metric='cosine')\n",
    "clusters = dbscan.fit_predict(embeddings)\n",
    "\n",
    "df['cluster'] = clusters\n",
    "df['cluster'] = df['cluster'].astype(str)\n"
   ]
  },
  {
   "cell_type": "code",
   "execution_count": 10,
   "id": "ad5cf3eb",
   "metadata": {},
   "outputs": [
    {
     "data": {
      "text/html": [
       "<div>\n",
       "<style scoped>\n",
       "    .dataframe tbody tr th:only-of-type {\n",
       "        vertical-align: middle;\n",
       "    }\n",
       "\n",
       "    .dataframe tbody tr th {\n",
       "        vertical-align: top;\n",
       "    }\n",
       "\n",
       "    .dataframe thead th {\n",
       "        text-align: right;\n",
       "    }\n",
       "</style>\n",
       "<table border=\"1\" class=\"dataframe\">\n",
       "  <thead>\n",
       "    <tr style=\"text-align: right;\">\n",
       "      <th></th>\n",
       "      <th>timestamp</th>\n",
       "      <th>source</th>\n",
       "      <th>log_message</th>\n",
       "      <th>target_label</th>\n",
       "      <th>complexity</th>\n",
       "      <th>cluster</th>\n",
       "    </tr>\n",
       "  </thead>\n",
       "  <tbody>\n",
       "    <tr>\n",
       "      <th>0</th>\n",
       "      <td>2025-06-27 07:20:25</td>\n",
       "      <td>ModernCRM</td>\n",
       "      <td>nova.osapi_compute.wsgi.server [req-b9718cd8-f...</td>\n",
       "      <td>HTTP Status</td>\n",
       "      <td>bert</td>\n",
       "      <td>0</td>\n",
       "    </tr>\n",
       "    <tr>\n",
       "      <th>1</th>\n",
       "      <td>1/14/2025 23:07</td>\n",
       "      <td>ModernCRM</td>\n",
       "      <td>Email service experiencing issues with sending</td>\n",
       "      <td>Critical Error</td>\n",
       "      <td>bert</td>\n",
       "      <td>1</td>\n",
       "    </tr>\n",
       "    <tr>\n",
       "      <th>2</th>\n",
       "      <td>1/17/2025 1:29</td>\n",
       "      <td>AnalyticsEngine</td>\n",
       "      <td>Unauthorized access to data was attempted</td>\n",
       "      <td>Security Alert</td>\n",
       "      <td>bert</td>\n",
       "      <td>2</td>\n",
       "    </tr>\n",
       "    <tr>\n",
       "      <th>3</th>\n",
       "      <td>2025-07-12 00:24:16</td>\n",
       "      <td>ModernHR</td>\n",
       "      <td>nova.osapi_compute.wsgi.server [req-4895c258-b...</td>\n",
       "      <td>HTTP Status</td>\n",
       "      <td>bert</td>\n",
       "      <td>0</td>\n",
       "    </tr>\n",
       "    <tr>\n",
       "      <th>4</th>\n",
       "      <td>2025-06-02 18:25:23</td>\n",
       "      <td>BillingSystem</td>\n",
       "      <td>nova.osapi_compute.wsgi.server [req-ee8bc8ba-9...</td>\n",
       "      <td>HTTP Status</td>\n",
       "      <td>bert</td>\n",
       "      <td>0</td>\n",
       "    </tr>\n",
       "  </tbody>\n",
       "</table>\n",
       "</div>"
      ],
      "text/plain": [
       "             timestamp           source  \\\n",
       "0  2025-06-27 07:20:25        ModernCRM   \n",
       "1      1/14/2025 23:07        ModernCRM   \n",
       "2       1/17/2025 1:29  AnalyticsEngine   \n",
       "3  2025-07-12 00:24:16         ModernHR   \n",
       "4  2025-06-02 18:25:23    BillingSystem   \n",
       "\n",
       "                                         log_message    target_label  \\\n",
       "0  nova.osapi_compute.wsgi.server [req-b9718cd8-f...     HTTP Status   \n",
       "1     Email service experiencing issues with sending  Critical Error   \n",
       "2          Unauthorized access to data was attempted  Security Alert   \n",
       "3  nova.osapi_compute.wsgi.server [req-4895c258-b...     HTTP Status   \n",
       "4  nova.osapi_compute.wsgi.server [req-ee8bc8ba-9...     HTTP Status   \n",
       "\n",
       "  complexity cluster  \n",
       "0       bert       0  \n",
       "1       bert       1  \n",
       "2       bert       2  \n",
       "3       bert       0  \n",
       "4       bert       0  "
      ]
     },
     "execution_count": 10,
     "metadata": {},
     "output_type": "execute_result"
    }
   ],
   "source": [
    "df.head() # type: ignore"
   ]
  },
  {
   "cell_type": "code",
   "execution_count": null,
   "id": "6f145ecb",
   "metadata": {},
   "outputs": [],
   "source": [
    "df[df['cluster'] == '1']"
   ]
  },
  {
   "cell_type": "code",
   "execution_count": 16,
   "id": "3b7f70fc",
   "metadata": {},
   "outputs": [
    {
     "name": "stdout",
     "output_type": "stream",
     "text": [
      "Cluster 0 has 1017 logs\n",
      "nova.osapi_compute.wsgi.server [req-b9718cd8-f6...\n",
      "nova.osapi_compute.wsgi.server [req-4895c258-b2...\n",
      "nova.osapi_compute.wsgi.server [req-ee8bc8ba-92...\n",
      "nova.osapi_compute.wsgi.server [req-f0bffbc3-5a...\n",
      "nova.osapi_compute.wsgi.server [req-2bf7cfee-a2...\n",
      "\n",
      "---\n",
      "\n",
      "Cluster 5 has 147 logs\n",
      "nova.compute.claims [req-a07ac654-8e81-416d-bfb...\n",
      "nova.compute.claims [req-d6986b54-3735-4a42-907...\n",
      "nova.compute.claims [req-72b4858f-049e-49e1-b31...\n",
      "nova.compute.claims [req-5c8f52bd-8e3c-41f0-95a...\n",
      "nova.compute.claims [req-d38f479d-9bb9-4276-968...\n",
      "\n",
      "---\n",
      "\n",
      "Cluster 11 has 100 logs\n",
      "User User685 logged out.\n",
      " User User395 logged in.\n",
      " User User225 logged in.\n",
      "User User494 logged out.\n",
      " User User900 logged in.\n",
      "\n",
      "---\n",
      "\n",
      "Cluster 13 has 86 logs\n",
      "Backup started at 2025-05-14 07:06:55.\n",
      "Backup started at 2025-02-15 20:00:19.\n",
      "  Backup ended at 2025-08-08 13:06:23.\n",
      "Backup started at 2025-11-14 08:27:43.\n",
      "Backup started at 2025-12-09 10:19:11.\n",
      "\n",
      "---\n",
      "\n",
      "Cluster 7 has 60 logs\n",
      "Multiple bad login attempts detected on user 85...\n",
      "Multiple login failures occurred on user 9052 a...\n",
      "  User 7153 made multiple incorrect login attempts\n",
      "  User 8300 made multiple incorrect login attempts\n",
      "Multiple login failures were detected for user ...\n",
      "\n",
      "---\n",
      "\n",
      "Cluster 8 has 60 logs\n",
      "Backup completed successfully.\n",
      "Backup completed successfully.\n",
      "Backup completed successfully.\n",
      "Backup completed successfully.\n",
      "Backup completed successfully.\n",
      "\n",
      "---\n",
      "\n",
      "Cluster 21 has 58 logs\n",
      "System updated to version 3.9.1.\n",
      "System updated to version 5.5.4.\n",
      "System updated to version 4.7.4.\n",
      "System updated to version 3.7.7.\n",
      "System updated to version 2.6.2.\n",
      "\n",
      "---\n",
      "\n",
      "Cluster 3 has 57 logs\n",
      "         Shard 6 replication task ended in failure\n",
      "Data replication task for shard 14 did not comp...\n",
      "         Data replication task failed for shard 17\n",
      "            Replication of data to shard 14 failed\n",
      "Data replication task for shard 6 did not complete\n",
      "\n",
      "---\n",
      "\n",
      "Cluster 4 has 53 logs\n",
      "File data_6169.csv uploaded successfully by use...\n",
      "File data_3847.csv uploaded successfully by use...\n",
      "File data_7366.csv uploaded successfully by use...\n",
      "File data_1206.csv uploaded successfully by use...\n",
      "File data_1503.csv uploaded successfully by use...\n",
      "\n",
      "---\n",
      "\n",
      "Cluster 17 has 52 logs\n",
      "Denied access attempt on restricted account Acc...\n",
      "Unauthorized login attempt on protected account...\n",
      "   Account Account9437 blocked due to failed login\n",
      "Account Account7999 access denied due to login ...\n",
      "Invalid login attempt made on secured account A...\n",
      "\n",
      "---\n",
      "\n",
      "Cluster 6 has 51 logs\n",
      "   Critical system unit error: unit ID Component55\n",
      "System component malfunction: component ID Comp...\n",
      "Critical system element is down: element ID Com...\n",
      "Essential system part malfunction: part ID Comp...\n",
      "Failure occurred in critical system component: ...\n",
      "\n",
      "---\n",
      "\n",
      "Cluster 32 has 51 logs\n",
      "Disk cleanup completed successfully.\n",
      "Disk cleanup completed successfully.\n",
      "Disk cleanup completed successfully.\n",
      "Disk cleanup completed successfully.\n",
      "Disk cleanup completed successfully.\n",
      "\n",
      "---\n",
      "\n",
      "Cluster 16 has 48 logs\n",
      "System reboot initiated by user User243.\n",
      "System reboot initiated by user User471.\n",
      "System reboot initiated by user User216.\n",
      "System reboot initiated by user User639.\n",
      "System reboot initiated by user User819.\n",
      "\n",
      "---\n",
      "\n",
      "Cluster 20 has 48 logs\n",
      "   User 7662 tried to bypass API security measures\n",
      "User 2367 failed to provide valid API access cr...\n",
      "        User 3569 made an unauthorized API request\n",
      "Unauthorized user 2968 tried to access restrict...\n",
      "User 2186 attempted to access API without prope...\n",
      "\n",
      "---\n",
      "\n",
      "Cluster 9 has 44 logs\n",
      "Account with ID 5351 created by User634.\n",
      "Account with ID 7813 created by User373.\n",
      "Account with ID 9827 created by User965.\n",
      "Account with ID 2520 created by User546.\n",
      "Account with ID 2300 created by User964.\n",
      "\n",
      "---\n",
      "\n",
      "Cluster 1 has 39 logs\n",
      "  Email service experiencing issues with sending\n",
      "        Email server encountered a sending fault\n",
      "      Mail service encountered a delivery glitch\n",
      "Service disruption caused by email sending error\n",
      "       Email system had a problem sending emails\n",
      "\n",
      "---\n",
      "\n",
      "Cluster 10 has 30 logs\n",
      "nova.compute.resource_tracker [req-addc1839-2ed...\n",
      "nova.compute.resource_tracker [req-addc1839-2ed...\n",
      "nova.compute.resource_tracker [req-addc1839-2ed...\n",
      "nova.compute.resource_tracker [req-addc1839-2ed...\n",
      "nova.compute.resource_tracker [req-addc1839-2ed...\n",
      "\n",
      "---\n",
      "\n",
      "Cluster 34 has 25 logs\n",
      "Abnormal behavior found on server 10, possible ...\n",
      "   Security alert: suspicious activity on server 1\n",
      "Anomalous activity identified on server 23, sec...\n",
      "Server 27 experienced potential security incide...\n",
      "Server 36 experienced potential security incide...\n",
      "\n",
      "---\n",
      "\n",
      "Cluster 53 has 20 logs\n",
      " Module X experienced an invalid data format issue\n",
      "        Input format mismatch occurred in module X\n",
      "Module X reported an error in input format vali...\n",
      "Module X failed to process input due to formatt...\n",
      "Input data format in module X was invalid or co...\n",
      "\n",
      "---\n",
      "\n",
      "Cluster 14 has 20 logs\n",
      "   Detection of multiple disk faults in RAID setup\n",
      "  RAID array suffered multiple hard drive failures\n",
      "      RAID array experienced multiple disk crashes\n",
      "Multiple hard drive issues in RAID configuratio...\n",
      "Identification of multiple faulty disks in RAID...\n",
      "\n",
      "---\n",
      "\n",
      "Cluster 52 has 20 logs\n",
      "Service health check was not successful because...\n",
      "Invalid SSL certificate resulted in a failed se...\n",
      "Service health check failure was due to an inva...\n",
      "An issue with the SSL certificate caused the se...\n",
      "Service health check failure was caused by an e...\n",
      "\n",
      "---\n",
      "\n",
      "Cluster 18 has 17 logs\n",
      "Boot process terminated unexpectedly due to ker...\n",
      "System encountered kernel panic during initiali...\n",
      "    Boot process was stopped by kernel malfunction\n",
      "System encountered kernel failure during bootup...\n",
      "          Boot sequence failed due to kernel panic\n",
      "\n",
      "---\n",
      "\n",
      "Cluster 42 has 13 logs\n",
      "User 5127 has escalated admin privileges withou...\n",
      "            User 9745 has escalated to admin level\n",
      "     User 8483 escalated privileges to admin level\n",
      "            User 1987 has escalated to admin level\n",
      "     User 8395 escalated privileges to admin level\n",
      "\n",
      "---\n",
      "\n",
      "Cluster 25 has 13 logs\n",
      "         System configuration is no longer valid\n",
      "Configuration is corrupted throughout the system\n",
      "     Cross-system configuration failure occurred\n",
      "     System configuration is experiencing errors\n",
      "        Configuration malfunction is system-wide\n",
      "\n",
      "---\n",
      "\n",
      "Cluster 59 has 12 logs\n",
      "Potential security threat: Admin privilege esca...\n",
      "    Admin privilege escalation alert for user 2893\n",
      "    Admin privilege escalation alert for user 8532\n",
      "Potential security threat: Admin privilege esca...\n",
      "Warning: Potential admin privilege escalation f...\n",
      "\n",
      "---\n",
      "\n",
      "Cluster 26 has 11 logs\n",
      "        Privilege elevation detected for user 5038\n",
      "Elevation of admin privileges detected for user...\n",
      "Elevation of admin privileges detected for user...\n",
      "User 6069 has been granted elevated admin privi...\n",
      "   Admin privilege elevation warning for user 7574\n",
      "\n",
      "---\n",
      "\n"
     ]
    }
   ],
   "source": [
    "cluster_counts = df['cluster'].value_counts()\n",
    "large_clusters = cluster_counts[cluster_counts > 10].index.tolist()\n",
    "\n",
    "for cluster in large_clusters:\n",
    "    print(f\"Cluster {cluster} has {cluster_counts[cluster]} logs\")\n",
    "    print(df[df['cluster'] == cluster]['log_message'].head(5).to_string(index=False))\n",
    "    print(\"\\n---\\n\")"
   ]
  },
  {
   "cell_type": "code",
   "execution_count": 27,
   "id": "505d31d8",
   "metadata": {},
   "outputs": [],
   "source": [
    "import re\n",
    "def classify_with_regex(log_message):\n",
    "    regex_patterns = {\n",
    "        r\"User User\\d+ logged (in|out).\": \"User Action\",\n",
    "        r\"Backup (started|ended) at .*\": \"System Notification\",\n",
    "        r\"Backup completed successfully.\": \"System Notification\",\n",
    "        r\"System updated to version .*\": \"System Notification\",\n",
    "        r\"File .* uploaded successfully by user .*\": \"System Notification\",\n",
    "        r\"Disk cleanup completed successfully.\": \"System Notification\",\n",
    "        r\"System reboot initiated by user .*\": \"System Notification\",\n",
    "        r\"Account with ID .* created by .*\": \"User Action\"\n",
    "    }\n",
    "    for pattern, label in regex_patterns.items():\n",
    "        if re.search(pattern, log_message, re.IGNORECASE):\n",
    "            return label\n",
    "    return None\n"
   ]
  },
  {
   "cell_type": "code",
   "execution_count": 28,
   "id": "e171301b",
   "metadata": {},
   "outputs": [
    {
     "data": {
      "text/plain": [
       "'System Notification'"
      ]
     },
     "execution_count": 28,
     "metadata": {},
     "output_type": "execute_result"
    }
   ],
   "source": [
    "classify_with_regex(\"Disk cleanup completed successfully.\")"
   ]
  },
  {
   "cell_type": "code",
   "execution_count": 29,
   "id": "5f106d43",
   "metadata": {},
   "outputs": [],
   "source": [
    "df['regex_label'] = df['log_message'].apply(classify_with_regex)"
   ]
  },
  {
   "cell_type": "code",
   "execution_count": 33,
   "id": "799364e3",
   "metadata": {},
   "outputs": [
    {
     "data": {
      "text/html": [
       "<div>\n",
       "<style scoped>\n",
       "    .dataframe tbody tr th:only-of-type {\n",
       "        vertical-align: middle;\n",
       "    }\n",
       "\n",
       "    .dataframe tbody tr th {\n",
       "        vertical-align: top;\n",
       "    }\n",
       "\n",
       "    .dataframe thead th {\n",
       "        text-align: right;\n",
       "    }\n",
       "</style>\n",
       "<table border=\"1\" class=\"dataframe\">\n",
       "  <thead>\n",
       "    <tr style=\"text-align: right;\">\n",
       "      <th></th>\n",
       "      <th>timestamp</th>\n",
       "      <th>source</th>\n",
       "      <th>log_message</th>\n",
       "      <th>target_label</th>\n",
       "      <th>complexity</th>\n",
       "      <th>cluster</th>\n",
       "      <th>regex_label</th>\n",
       "    </tr>\n",
       "  </thead>\n",
       "  <tbody>\n",
       "    <tr>\n",
       "      <th>7</th>\n",
       "      <td>10/11/2025 8:44</td>\n",
       "      <td>ModernHR</td>\n",
       "      <td>File data_6169.csv uploaded successfully by us...</td>\n",
       "      <td>System Notification</td>\n",
       "      <td>regex</td>\n",
       "      <td>4</td>\n",
       "      <td>System Notification</td>\n",
       "    </tr>\n",
       "    <tr>\n",
       "      <th>14</th>\n",
       "      <td>1/4/2025 1:43</td>\n",
       "      <td>ThirdPartyAPI</td>\n",
       "      <td>File data_3847.csv uploaded successfully by us...</td>\n",
       "      <td>System Notification</td>\n",
       "      <td>regex</td>\n",
       "      <td>4</td>\n",
       "      <td>System Notification</td>\n",
       "    </tr>\n",
       "    <tr>\n",
       "      <th>15</th>\n",
       "      <td>5/1/2025 9:41</td>\n",
       "      <td>ModernCRM</td>\n",
       "      <td>Backup completed successfully.</td>\n",
       "      <td>System Notification</td>\n",
       "      <td>regex</td>\n",
       "      <td>8</td>\n",
       "      <td>System Notification</td>\n",
       "    </tr>\n",
       "    <tr>\n",
       "      <th>18</th>\n",
       "      <td>2/22/2025 17:49</td>\n",
       "      <td>ModernCRM</td>\n",
       "      <td>Account with ID 5351 created by User634.</td>\n",
       "      <td>User Action</td>\n",
       "      <td>regex</td>\n",
       "      <td>9</td>\n",
       "      <td>User Action</td>\n",
       "    </tr>\n",
       "    <tr>\n",
       "      <th>27</th>\n",
       "      <td>9/24/2025 19:57</td>\n",
       "      <td>ThirdPartyAPI</td>\n",
       "      <td>User User685 logged out.</td>\n",
       "      <td>User Action</td>\n",
       "      <td>regex</td>\n",
       "      <td>11</td>\n",
       "      <td>User Action</td>\n",
       "    </tr>\n",
       "    <tr>\n",
       "      <th>...</th>\n",
       "      <td>...</td>\n",
       "      <td>...</td>\n",
       "      <td>...</td>\n",
       "      <td>...</td>\n",
       "      <td>...</td>\n",
       "      <td>...</td>\n",
       "      <td>...</td>\n",
       "    </tr>\n",
       "    <tr>\n",
       "      <th>2376</th>\n",
       "      <td>6/27/2025 8:47</td>\n",
       "      <td>ModernCRM</td>\n",
       "      <td>System updated to version 2.0.5.</td>\n",
       "      <td>System Notification</td>\n",
       "      <td>regex</td>\n",
       "      <td>21</td>\n",
       "      <td>System Notification</td>\n",
       "    </tr>\n",
       "    <tr>\n",
       "      <th>2381</th>\n",
       "      <td>9/5/2025 6:39</td>\n",
       "      <td>ThirdPartyAPI</td>\n",
       "      <td>Disk cleanup completed successfully.</td>\n",
       "      <td>System Notification</td>\n",
       "      <td>regex</td>\n",
       "      <td>32</td>\n",
       "      <td>System Notification</td>\n",
       "    </tr>\n",
       "    <tr>\n",
       "      <th>2394</th>\n",
       "      <td>4/3/2025 13:13</td>\n",
       "      <td>ModernHR</td>\n",
       "      <td>Disk cleanup completed successfully.</td>\n",
       "      <td>System Notification</td>\n",
       "      <td>regex</td>\n",
       "      <td>32</td>\n",
       "      <td>System Notification</td>\n",
       "    </tr>\n",
       "    <tr>\n",
       "      <th>2395</th>\n",
       "      <td>5/2/2025 14:29</td>\n",
       "      <td>ThirdPartyAPI</td>\n",
       "      <td>Backup ended at 2025-05-06 11:23:16.</td>\n",
       "      <td>System Notification</td>\n",
       "      <td>regex</td>\n",
       "      <td>13</td>\n",
       "      <td>System Notification</td>\n",
       "    </tr>\n",
       "    <tr>\n",
       "      <th>2403</th>\n",
       "      <td>10/1/2025 1:31</td>\n",
       "      <td>ModernCRM</td>\n",
       "      <td>Backup completed successfully.</td>\n",
       "      <td>System Notification</td>\n",
       "      <td>regex</td>\n",
       "      <td>8</td>\n",
       "      <td>System Notification</td>\n",
       "    </tr>\n",
       "  </tbody>\n",
       "</table>\n",
       "<p>500 rows × 7 columns</p>\n",
       "</div>"
      ],
      "text/plain": [
       "            timestamp         source  \\\n",
       "7     10/11/2025 8:44       ModernHR   \n",
       "14      1/4/2025 1:43  ThirdPartyAPI   \n",
       "15      5/1/2025 9:41      ModernCRM   \n",
       "18    2/22/2025 17:49      ModernCRM   \n",
       "27    9/24/2025 19:57  ThirdPartyAPI   \n",
       "...               ...            ...   \n",
       "2376   6/27/2025 8:47      ModernCRM   \n",
       "2381    9/5/2025 6:39  ThirdPartyAPI   \n",
       "2394   4/3/2025 13:13       ModernHR   \n",
       "2395   5/2/2025 14:29  ThirdPartyAPI   \n",
       "2403   10/1/2025 1:31      ModernCRM   \n",
       "\n",
       "                                            log_message         target_label  \\\n",
       "7     File data_6169.csv uploaded successfully by us...  System Notification   \n",
       "14    File data_3847.csv uploaded successfully by us...  System Notification   \n",
       "15                       Backup completed successfully.  System Notification   \n",
       "18             Account with ID 5351 created by User634.          User Action   \n",
       "27                             User User685 logged out.          User Action   \n",
       "...                                                 ...                  ...   \n",
       "2376                   System updated to version 2.0.5.  System Notification   \n",
       "2381               Disk cleanup completed successfully.  System Notification   \n",
       "2394               Disk cleanup completed successfully.  System Notification   \n",
       "2395               Backup ended at 2025-05-06 11:23:16.  System Notification   \n",
       "2403                     Backup completed successfully.  System Notification   \n",
       "\n",
       "     complexity cluster          regex_label  \n",
       "7         regex       4  System Notification  \n",
       "14        regex       4  System Notification  \n",
       "15        regex       8  System Notification  \n",
       "18        regex       9          User Action  \n",
       "27        regex      11          User Action  \n",
       "...         ...     ...                  ...  \n",
       "2376      regex      21  System Notification  \n",
       "2381      regex      32  System Notification  \n",
       "2394      regex      32  System Notification  \n",
       "2395      regex      13  System Notification  \n",
       "2403      regex       8  System Notification  \n",
       "\n",
       "[500 rows x 7 columns]"
      ]
     },
     "execution_count": 33,
     "metadata": {},
     "output_type": "execute_result"
    }
   ],
   "source": [
    "df[df.regex_label.notnull()]"
   ]
  },
  {
   "cell_type": "code",
   "execution_count": 34,
   "id": "7699daf3",
   "metadata": {},
   "outputs": [
    {
     "data": {
      "text/plain": [
       "(1910, 7)"
      ]
     },
     "execution_count": 34,
     "metadata": {},
     "output_type": "execute_result"
    }
   ],
   "source": [
    "df_non_regex = df[df.regex_label.isnull()].copy(deep=True)\n",
    "\n",
    "df_non_regex.shape"
   ]
  },
  {
   "cell_type": "code",
   "execution_count": 36,
   "id": "c775819f",
   "metadata": {},
   "outputs": [
    {
     "data": {
      "text/plain": [
       "pandas.core.series.Series"
      ]
     },
     "execution_count": 36,
     "metadata": {},
     "output_type": "execute_result"
    }
   ],
   "source": [
    "type(df_non_regex['target_label'].value_counts())"
   ]
  },
  {
   "cell_type": "code",
   "execution_count": 42,
   "id": "9597b9e9",
   "metadata": {},
   "outputs": [
    {
     "name": "stdout",
     "output_type": "stream",
     "text": [
      "['Workflow Error', 'Deprecation Warning']\n"
     ]
    }
   ],
   "source": [
    "target_label_counts = df_non_regex['target_label'].value_counts()\n",
    "rare_labels = target_label_counts[target_label_counts <= 5].index.tolist()\n",
    "print(rare_labels)"
   ]
  },
  {
   "cell_type": "code",
   "execution_count": 43,
   "id": "c06a6719",
   "metadata": {},
   "outputs": [],
   "source": [
    "df_non_legacy = df_non_regex[~df_non_regex['target_label'].isin(rare_labels)].copy(deep=True)"
   ]
  },
  {
   "cell_type": "code",
   "execution_count": 44,
   "id": "d1e851eb",
   "metadata": {},
   "outputs": [
    {
     "data": {
      "text/plain": [
       "array(['ModernCRM', 'AnalyticsEngine', 'ModernHR', 'BillingSystem',\n",
       "       'ThirdPartyAPI'], dtype=object)"
      ]
     },
     "execution_count": 44,
     "metadata": {},
     "output_type": "execute_result"
    }
   ],
   "source": [
    "df_non_legacy.source.unique()"
   ]
  },
  {
   "cell_type": "code",
   "execution_count": 45,
   "id": "d3d203ee",
   "metadata": {},
   "outputs": [
    {
     "name": "stderr",
     "output_type": "stream",
     "text": [
      "Batches: 100%|██████████| 60/60 [00:28<00:00,  2.09it/s]\n"
     ]
    }
   ],
   "source": [
    "filtered_embeddings = model.encode(df_non_legacy['log_message'].tolist(), show_progress_bar=True)"
   ]
  },
  {
   "cell_type": "code",
   "execution_count": 50,
   "id": "1dea4e3b",
   "metadata": {},
   "outputs": [],
   "source": [
    "X = filtered_embeddings\n",
    "y = df_non_legacy['target_label'].to_numpy(dtype=str)"
   ]
  },
  {
   "cell_type": "code",
   "execution_count": 51,
   "id": "cf469528",
   "metadata": {},
   "outputs": [
    {
     "name": "stdout",
     "output_type": "stream",
     "text": [
      "                precision    recall  f1-score   support\n",
      "\n",
      "Critical Error       0.91      1.00      0.95        48\n",
      "         Error       0.98      0.89      0.93        47\n",
      "   HTTP Status       1.00      1.00      1.00       304\n",
      "Resource Usage       1.00      1.00      1.00        49\n",
      "Security Alert       1.00      0.99      1.00       123\n",
      "\n",
      "      accuracy                           0.99       571\n",
      "     macro avg       0.98      0.98      0.98       571\n",
      "  weighted avg       0.99      0.99      0.99       571\n",
      "\n"
     ]
    }
   ],
   "source": [
    "from sklearn.model_selection import train_test_split\n",
    "from sklearn.linear_model import LogisticRegression\n",
    "from sklearn.metrics import classification_report\n",
    "\n",
    "X_train, X_test, y_train, y_test = train_test_split(X, y, test_size=0.3, random_state=42)\n",
    "clf = LogisticRegression(max_iter=1000)\n",
    "clf.fit(X_train, y_train)\n",
    "\n",
    "\n",
    "y_pred = clf.predict(X_test)\n",
    "report = classification_report(y_test, y_pred)\n",
    "print(report)"
   ]
  },
  {
   "cell_type": "code",
   "execution_count": 58,
   "id": "e64b9dbe",
   "metadata": {},
   "outputs": [
    {
     "data": {
      "text/plain": [
       "['training/models/log_classifier.joblib']"
      ]
     },
     "execution_count": 58,
     "metadata": {},
     "output_type": "execute_result"
    }
   ],
   "source": [
    "import os\n",
    "import joblib\n",
    "\n",
    "os.makedirs('training/models', exist_ok=True)\n",
    "joblib.dump(clf, 'training/models/log_classifier.joblib')"
   ]
  },
  {
   "cell_type": "code",
   "execution_count": null,
   "id": "a8aed7fe",
   "metadata": {},
   "outputs": [],
   "source": []
  },
  {
   "cell_type": "code",
   "execution_count": null,
   "id": "c47fb5e8",
   "metadata": {},
   "outputs": [],
   "source": []
  },
  {
   "cell_type": "code",
   "execution_count": null,
   "id": "93b9c7df",
   "metadata": {},
   "outputs": [],
   "source": []
  },
  {
   "cell_type": "code",
   "execution_count": null,
   "id": "4d8dac56",
   "metadata": {},
   "outputs": [],
   "source": []
  },
  {
   "cell_type": "code",
   "execution_count": null,
   "id": "1b7476b4",
   "metadata": {},
   "outputs": [],
   "source": []
  },
  {
   "cell_type": "code",
   "execution_count": null,
   "id": "a94c74a0",
   "metadata": {},
   "outputs": [],
   "source": []
  },
  {
   "cell_type": "code",
   "execution_count": null,
   "id": "ecdac720",
   "metadata": {},
   "outputs": [],
   "source": []
  },
  {
   "cell_type": "code",
   "execution_count": null,
   "id": "5eec282f",
   "metadata": {},
   "outputs": [],
   "source": []
  }
 ],
 "metadata": {
  "kernelspec": {
   "display_name": "myenv",
   "language": "python",
   "name": "python3"
  },
  "language_info": {
   "codemirror_mode": {
    "name": "ipython",
    "version": 3
   },
   "file_extension": ".py",
   "mimetype": "text/x-python",
   "name": "python",
   "nbconvert_exporter": "python",
   "pygments_lexer": "ipython3",
   "version": "3.10.0"
  }
 },
 "nbformat": 4,
 "nbformat_minor": 5
}
